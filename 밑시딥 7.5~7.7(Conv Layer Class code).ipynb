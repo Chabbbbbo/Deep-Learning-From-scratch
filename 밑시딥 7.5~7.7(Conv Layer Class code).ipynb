{
  "nbformat": 4,
  "nbformat_minor": 0,
  "metadata": {
    "colab": {
      "name": "Conv Layer Class code(밑시딥 7.5~7.7).ipynb",
      "provenance": [],
      "collapsed_sections": []
    },
    "kernelspec": {
      "name": "python3",
      "display_name": "Python 3"
    },
    "language_info": {
      "name": "python"
    }
  },
  "cells": [
    {
      "cell_type": "markdown",
      "source": [
        "## 7.4 합성곱/풀링 계층 구현\n",
        "---"
      ],
      "metadata": {
        "id": "fy5D6dqyGJPD"
      }
    },
    {
      "cell_type": "code",
      "execution_count": 4,
      "metadata": {
        "colab": {
          "base_uri": "https://localhost:8080/"
        },
        "id": "3M82k3pkFqH7",
        "outputId": "56d4b6ce-9fcb-4220-9154-c3ca3be4e163"
      },
      "outputs": [
        {
          "output_type": "stream",
          "name": "stdout",
          "text": [
            "(9, 75)\n",
            "(90, 75)\n"
          ]
        }
      ],
      "source": [
        "########im2col 사용해보기 ##############\n",
        "import numpy as np\n",
        "import sys, os\n",
        "sys.path.append(os.pardir)\n",
        "from util import im2col\n",
        "\n",
        "\n",
        "x1 = np.random.rand(1, 3, 7, 7) #데이터 1, 채널 3, 높이 7, 너비 7\n",
        "col1 = im2col(x1, 5, 5, stride=1, pad=0) # (input_data, filter_h, filter_w, stribe, pad)\n",
        "print(col1.shape) #im2col의 결과는 2차원으로 출력 -> 4차원으로 바꿔줘야함\n",
        "\n",
        "x2 = np.random.rand(10, 3, 7, 7) #데이터가 x1의 10배\n",
        "col2 = im2col(x2, 5, 5, stride=1, pad=0)\n",
        "print(col2.shape)"
      ]
    },
    {
      "cell_type": "code",
      "source": [
        "####################im2col 사용해서 합성곱계층 구현#######################\n",
        "class Convolution:\n",
        "\tdef __init__(self, W, b, stride=1, pad=0):\n",
        "\t\tself.W = W #필터(가중치)\n",
        "\t\tself.b = b #편향\n",
        "\t\tself.stride = stride\n",
        "\t\tself.pad = pad\n",
        "\n",
        "\tdef forward(self, x):\n",
        "\t\tFN, C, FH, FW = self.W.shape #FN:필터갯수, \n",
        "\t\tN, C, H, W = x.shape\n",
        "\t\tout_h = int(1 + (H + 2*self.pad - FH) / self.stride)\n",
        "\t\tout_w = int(1 + (W + 2/self.pad - FW) / self.stride)\n",
        "\n",
        "########중요! 입력데이터 -> im2col로 전개 -> 필터로 reshape해서 2차원으로 전개############\n",
        "\t\tcol = im2col(x, FH, FW, self.stride, self.pad)\n",
        "\t\tcol_W = self.W.reshape(FN, -1).T\n",
        "\t\tout = np.dot(col, col_W) + self.b\n",
        "\n",
        "\t\tout = out.reshape(N, out_h, out_w, -1).transpose(0, 3, 1, 2)\n",
        "\n",
        "\t\treturn out"
      ],
      "metadata": {
        "id": "3iOz4wyhGIhR"
      },
      "execution_count": 5,
      "outputs": []
    },
    {
      "cell_type": "code",
      "source": [
        "#################풀링 레이어 구현하기#########################\n",
        "class Pooling:\n",
        "\tdef __init__(self, pool_h, pool_w, stride=1, pad=0):\n",
        "\t\tself.pool_h = pool_h\n",
        "\t\tself.pool_w = pool_w\n",
        "\t\tself.stride = stride\n",
        "\t\tself.pad = pad\n",
        "\n",
        "\tdef forward(self, x):\n",
        "\t\tN, C, H, W = x.shape\n",
        "\t\tout_h = int(1 + (H + self.pool_h) / self.stride)\n",
        "\t\tout_w = int(1 + (W + self.pool_w) / self.stride)\n",
        "\n",
        "\t\tcol = im2col(x, self.pool_h, self.pool_w, self.stride, self.pad)\n",
        "\t\tcol = col.reshape(-1, self.pool_h*self.pool_w)\n",
        "\n",
        "\t\tout = np.max(col, axis=1)\n",
        "\n",
        "\t\tout = out.reshape(N, out_h, out_w, C).tramspose(0, 3, 1, 2)\n",
        "\n",
        "\t\treturn out"
      ],
      "metadata": {
        "id": "XjN8HbEoMPfF"
      },
      "execution_count": 7,
      "outputs": []
    },
    {
      "cell_type": "markdown",
      "source": [
        "### CNN code 구현\n",
        "----\n"
      ],
      "metadata": {
        "id": "IH4oj2UKXLEF"
      }
    },
    {
      "cell_type": "code",
      "source": [
        "###############CNN 만들어보기#################\n",
        "class SimpleConvNet:\n",
        "\n",
        "###############CNN 함수 초기화#################\n",
        "    def __init__(self, input_dim=(1, 28, 28),\n",
        "                 conv_param={'filter_num': 30, 'filter_size': 5,\n",
        "                             'pad': 0, 'stride': 1},\n",
        "                 hidden_size=100, output_size=10, weight_init_std=0.01):\n",
        "\n",
        "        filter_num = conv_param['filter_num']\n",
        "        filter_size = conv_param['filter_size']\n",
        "        filter_pad = conv_param['pad']\n",
        "        filter_stride = conv_param['stride']\n",
        "        input_size = input_dim[1]\n",
        "        conv_output_size = (input_size - filter_size + 2*filter_pad) / \\\n",
        "            filter_stride + 1\n",
        "        pool_output_size = int(filter_num * (conv_output_size/2) *\n",
        "                               (conv_output_size/2))\n",
        "###############가중치 매개변수 초기화#######################\n",
        "        self.params = {}\n",
        "        self.params['W1'] = weight_init_std * \\\n",
        "            np.random.randn(filter_num, input_dim[0], filter_size, filter_size)\n",
        "        self.params['b1'] = np.zeros(filter_num)\n",
        "        self.params['W2'] = weight_init_std * \\\n",
        "            np.random.randn(pool_output_size, hidden_size)\n",
        "        self.params['b2'] = np.zeros(hidden_size)\n",
        "        self.params['W3'] = weight_init_std * \\\n",
        "            np.random.randn(hidden_size, output_size)\n",
        "        self.params['b3'] = np.zeros(output_size)\n",
        "\n",
        "#################CNN 구현계층#########################\n",
        "        self.layers = OrderedDict()\n",
        "        self.layers['Conv1'] = Convolution(self.params['W1'],\n",
        "                                           self.params['b1'],\n",
        "                                           conv_param['stride'],\n",
        "                                           conv_param['pad'])\n",
        "        self.layers['Relu1'] = Relu()\n",
        "        self.layers['Pool1'] = Pooling(pool_h=2, pool_w=2, stride=2)\n",
        "        self.layers['Affine1'] = Affine(self.params['W2'], self.params['b2'])\n",
        "        self.layers['Relu2'] = Relu()\n",
        "        self.layers['Affine2'] = Affine(self.params['W3'], self.params['b3'])\n",
        "        self.last_layer = SoftmaxWithLoss()\n",
        "#####################초기화 끝##########################\n",
        "\n",
        "####################추론 및 loss 계산##########################\n",
        "    def predict(self, x):\n",
        "        \"\"\"추론을 수행\"\"\"\n",
        "        for layer in self.layers.values():\n",
        "            x = layer.forward(x)\n",
        "        return x\n",
        "\n",
        "    def loss(self, x, t):\n",
        "        \"\"\"손실함수 값 계산\"\"\"\n",
        "        y = self.predict(x)\n",
        "        return self.last_layer.forward(y, t)\n",
        "\n",
        "    def accuracy(self, x, t, batch_size=100):\n",
        "        if t.ndim != 1:\n",
        "            t = np.argmax(t, axis=1)\n",
        "\n",
        "        acc = 0.0\n",
        "\n",
        "        for i in range(int(x.shape[0] / batch_size)):\n",
        "            tx = x[i*batch_size:(i+1)*batch_size]\n",
        "            tt = t[i*batch_size:(i+1)*batch_size]\n",
        "            y = self.predict(tx)\n",
        "            y = np.argmax(y, axis=1)\n",
        "            acc += np.sum(y == tt)\n",
        "\n",
        "        return acc / x.shape[0]\n",
        "\n",
        "################역전파로 기울기 구하기######################\n",
        "    def gradient(self, x, t):\n",
        "        \"\"\"오차역전파법으로 기울기를 구함\"\"\"\n",
        "        # 순전파\n",
        "        self.loss(x, t)\n",
        "\n",
        "        # 역전파\n",
        "        dout = 1\n",
        "        dout = self.last_layer.backward(dout)\n",
        "\n",
        "        layers = list(self.layers.values())\n",
        "        layers.reverse()\n",
        "        for layer in layers:\n",
        "            dout = layer.backward(dout)\n",
        "\n",
        "        # 결과 저장\n",
        "        grads = {}\n",
        "        grads['W1'] = self.layers['Conv1'].dW\n",
        "        grads['b1'] = self.layers['Conv1'].db\n",
        "        grads['W2'] = self.layers['Affine1'].dW\n",
        "        grads['b2'] = self.layers['Affine1'].db\n",
        "        grads['W3'] = self.layers['Affine2'].dW\n",
        "        grads['b3'] = self.layers['Affine2'].db\n",
        "\n",
        "        return grads"
      ],
      "metadata": {
        "id": "nCRevjyDNEG6"
      },
      "execution_count": 13,
      "outputs": []
    },
    {
      "cell_type": "code",
      "source": [
        ""
      ],
      "metadata": {
        "id": "zyTUUCMgW678"
      },
      "execution_count": null,
      "outputs": []
    },
    {
      "cell_type": "code",
      "source": [
        ""
      ],
      "metadata": {
        "id": "evSx8IzVWy-W"
      },
      "execution_count": null,
      "outputs": []
    },
    {
      "cell_type": "code",
      "source": [
        ""
      ],
      "metadata": {
        "id": "roGvR_YsWJtJ"
      },
      "execution_count": null,
      "outputs": []
    }
  ]
}